{
 "cells": [
  {
   "cell_type": "markdown",
   "id": "5f981b78",
   "metadata": {},
   "source": [
    "# Convolutional Neural Networks\n",
    "\n",
    "In this notebook we will be perform the task of image classification on [CIFAR-10](https://www.cs.toronto.edu/~kriz/cifar.html) dataset using Convolutional Neural Networks based on Visual Geometry Group (VGG) network"
   ]
  },
  {
   "cell_type": "markdown",
   "id": "8356ecb8",
   "metadata": {},
   "source": [
    "## Importing the libraries\n",
    "\n",
    "To implement the network we will be using [PyTorch](https://pytorch.org/) library"
   ]
  },
  {
   "cell_type": "code",
   "execution_count": 7,
   "id": "bf20f5a0",
   "metadata": {},
   "outputs": [],
   "source": [
    "import torch\n",
    "from torch.utils.data import DataLoader\n",
    "import torchvision\n",
    "from torchvision import transforms\n",
    "import matplotlib\n",
    "import matplotlib.pyplot as plt\n",
    "%matplotlib inline"
   ]
  },
  {
   "cell_type": "markdown",
   "id": "274da43b",
   "metadata": {},
   "source": [
    "## Getting the dataset\n",
    "\n",
    "We will get the CIFAR-10 dataset from the torchvision package present in pytorch, some example images from the dataset are shown below\n",
    "<!-- ![CIFAR10.png](attachment:CIFAR10.png) -->\n",
    "<img src=\"CIFAR10.png\" alt=\"drawing\" style=\"width:400px;\"/>"
   ]
  },
  {
   "cell_type": "code",
   "execution_count": 9,
   "id": "fcafc991",
   "metadata": {},
   "outputs": [
    {
     "name": "stdout",
     "output_type": "stream",
     "text": [
      "Files already downloaded and verified\n",
      "Files already downloaded and verified\n"
     ]
    }
   ],
   "source": [
    "DATA_PATH = \"../data/\"\n",
    "\n",
    "# getting the training data\n",
    "train = torchvision.datasets.CIFAR10(DATA_PATH, \n",
    "                         train=True, \n",
    "                         download=True, \n",
    "                         transform = transforms.ToTensor())\n",
    "\n",
    "# getting the testing data\n",
    "test = torchvision.datasets.CIFAR10(DATA_PATH, \n",
    "                        train=False, \n",
    "                        download=True, \n",
    "                        transform = transforms.ToTensor())\n",
    "\n",
    "# class mapping from CIFAR documentation\n",
    "classes = ('plane', 'car', 'bird', 'cat', 'deer', 'dog', 'frog', 'horse', 'ship', 'truck')"
   ]
  },
  {
   "cell_type": "markdown",
   "id": "5f23da5f",
   "metadata": {},
   "source": [
    "## Normalizing the dataset\n",
    "\n",
    "The images in PIL are downloaded with range 0 to 1 and are not normalized, for better learning of the network we will normalize the dataset.\n",
    "\n",
    "To normalize the dataset we calculate mean and standard deviation for each channel in the training data"
   ]
  },
  {
   "cell_type": "code",
   "execution_count": 10,
   "id": "522c4a4b",
   "metadata": {},
   "outputs": [],
   "source": [
    "images = torch.stack([img for img, _ in train], dim=3)\n",
    "\n",
    "# calculating mean for each channgel in training data\n",
    "MEAN = images.view(3, -1).mean(dim=1)\n",
    "\n",
    "# calculating standard deviation for each channel in training data\n",
    "SD = images.view(3, -1).std(dim=1)"
   ]
  },
  {
   "cell_type": "code",
   "execution_count": 11,
   "id": "701b19c3",
   "metadata": {},
   "outputs": [
    {
     "data": {
      "text/plain": [
       "(tensor([0.4914, 0.4822, 0.4465]), tensor([0.2470, 0.2435, 0.2616]))"
      ]
     },
     "execution_count": 11,
     "metadata": {},
     "output_type": "execute_result"
    }
   ],
   "source": [
    "MEAN, SD"
   ]
  },
  {
   "cell_type": "markdown",
   "id": "a0e48bee",
   "metadata": {},
   "source": [
    "We will reload the datasets and apply following transforms to them:\n",
    "- Converting the images to Tensor so PyTorch can handle them\n",
    "- Normalizing each channel of the image\n",
    "\n",
    "We will also split the training data to a training dataset and a validation dataset to monitor overfitting and guide training"
   ]
  },
  {
   "cell_type": "code",
   "execution_count": 12,
   "id": "11ad2003",
   "metadata": {},
   "outputs": [
    {
     "name": "stdout",
     "output_type": "stream",
     "text": [
      "Files already downloaded and verified\n",
      "Files already downloaded and verified\n"
     ]
    }
   ],
   "source": [
    "# reloading the dataset with applied normalization\n",
    "\n",
    "# getting the training data\n",
    "train = torchvision.datasets.CIFAR10(DATA_PATH, \n",
    "                         train=True, \n",
    "                         download=True, \n",
    "                         transform = transforms.Compose([\n",
    "                             transforms.ToTensor(),\n",
    "                             transforms.Normalize(MEAN, SD)\n",
    "                         ]))\n",
    "\n",
    "# creating a validation set from training set with 90-10 split\n",
    "from torch.utils.data.dataset import random_split\n",
    "train_size = int(len(train) * 0.9) # 90% training data\n",
    "valid_size = len(train) - train_size # 10% validation data\n",
    "train, validation = random_split(train, [train_size, valid_size])\n",
    "\n",
    "# getting the testing data\n",
    "test = torchvision.datasets.CIFAR10(DATA_PATH, \n",
    "                        train=False, \n",
    "                        download=True, \n",
    "                        transform = transforms.Compose([\n",
    "                            transforms.ToTensor(),\n",
    "                            transforms.Normalize(MEAN, SD)\n",
    "                        ]))"
   ]
  },
  {
   "cell_type": "markdown",
   "id": "316bdc9f",
   "metadata": {},
   "source": [
    "Creating minibatch loader for training using the **DataLoader** class"
   ]
  },
  {
   "cell_type": "code",
   "execution_count": 13,
   "id": "977fa22f",
   "metadata": {},
   "outputs": [],
   "source": [
    "# Defining the batch size\n",
    "BATCH_SIZE = 4\n",
    "\n",
    "# creating dataloader object for dataset\n",
    "train_loader = DataLoader(train,\n",
    "                         batch_size=BATCH_SIZE,\n",
    "                         shuffle=True)\n",
    "\n",
    "validation_loader = DataLoader(validation,\n",
    "                              batch_size=BATCH_SIZE,\n",
    "                              shuffle=False)\n",
    "\n",
    "test_loader = DataLoader(test,\n",
    "                        batch_size=BATCH_SIZE,\n",
    "                        shuffle=False)"
   ]
  },
  {
   "attachments": {
    "VGGBlock.png": {
     "image/png": "[encoded data removed]"
    }
   },
   "cell_type": "markdown",
   "id": "2ed2b2ba",
   "metadata": {},
   "source": [
    "## Baseline model\n",
    "\n",
    "We will be using a VGG style architecture, we first train a model with a single VGG block and two fully connected layers\n",
    "\n",
    "The VGG block is shown in the image below:\n",
    "\n",
    "![VGGBlock.png](attachment:VGGBlock.png)"
   ]
  },
  {
   "cell_type": "code",
   "execution_count": 130,
   "id": "3c7d2399",
   "metadata": {},
   "outputs": [],
   "source": [
    "import torch.nn as nn\n",
    "import torch.nn.functional as F\n",
    "\n",
    "class ConvNet(nn.Module):\n",
    "    def __init__(self):\n",
    "        super().__init__()\n",
    "        \n",
    "        # block 1\n",
    "        self.conv1 = nn.Conv2d(3, 32, 3, padding = 1)\n",
    "        self.conv2 = nn.Conv2d(32, 32, 3, padding = 1)\n",
    "        self.pool = nn.MaxPool2d(2, 2)\n",
    "        \n",
    "        # fully connected layers\n",
    "        self.fc1 = nn.Linear(16*16*32, 128)\n",
    "        self.fc2 = nn.Linear(128, 10)\n",
    "\n",
    "    def forward(self, x):\n",
    "        # block 1\n",
    "        x = F.relu(self.conv1(x))\n",
    "        x = self.pool(F.relu(self.conv2(x)))\n",
    "        \n",
    "        # fully connected layers\n",
    "        x = torch.flatten(x, 1)\n",
    "        x = F.relu(self.fc1(x))\n",
    "        x = self.fc2(x)\n",
    "        return x\n",
    "\n",
    "\n",
    "net = ConvNet()"
   ]
  },
  {
   "cell_type": "code",
   "execution_count": 131,
   "id": "b049e918",
   "metadata": {
    "scrolled": true
   },
   "outputs": [
    {
     "data": {
      "text/plain": [
       "torch.Size([1, 10])"
      ]
     },
     "execution_count": 131,
     "metadata": {},
     "output_type": "execute_result"
    }
   ],
   "source": [
    "# checking forward pass\n",
    "net(torch.rand(1,3,32,32)).shape"
   ]
  },
  {
   "cell_type": "markdown",
   "id": "71e73e1a",
   "metadata": {},
   "source": [
    "### Defining the loss function\n",
    "\n",
    "Since we are performing a multi-class classification, we will be using Cross Entropy Loss"
   ]
  },
  {
   "cell_type": "code",
   "execution_count": 132,
   "id": "232b866b",
   "metadata": {},
   "outputs": [],
   "source": [
    "loss_fn = nn.CrossEntropyLoss()"
   ]
  },
  {
   "cell_type": "markdown",
   "id": "1cf0edc1",
   "metadata": {},
   "source": [
    "### Defining the optimizer\n",
    "We will be using a stochastic gradient descent optimizer to train out model"
   ]
  },
  {
   "cell_type": "code",
   "execution_count": 134,
   "id": "381433e2",
   "metadata": {},
   "outputs": [],
   "source": [
    "import torch.optim as optim\n",
    "\n",
    "optimizer = optim.SGD(net.parameters(), \n",
    "                      lr=0.01)"
   ]
  },
  {
   "cell_type": "markdown",
   "id": "9b7647fd",
   "metadata": {},
   "source": [
    "## Training Model 1"
   ]
  },
  {
   "cell_type": "code",
   "execution_count": 18,
   "id": "545d5770",
   "metadata": {},
   "outputs": [],
   "source": [
    "# lists for monitoring the progress of training Model-1\n",
    "m1_batch = []\n",
    "m1_train_loss = []\n",
    "m1_train_accuray = []\n",
    "m1_val_loss = []\n",
    "m1_val_accuracy = []"
   ]
  },
  {
   "cell_type": "code",
   "execution_count": 162,
   "id": "566e93ee",
   "metadata": {
    "scrolled": false
   },
   "outputs": [
    {
     "name": "stdout",
     "output_type": "stream",
     "text": [
      "[1,   500] loss: 0.021, accuracy: 0.971\n",
      "[1,   500] val loss: 1.594, accuracy: 0.657\n",
      "[1,  1000] loss: 0.018, accuracy: 0.976\n",
      "[1,  1000] val loss: 1.578, accuracy: 0.660\n",
      "[1,  1500] loss: 0.017, accuracy: 0.975\n",
      "[1,  1500] val loss: 1.708, accuracy: 0.663\n",
      "[1,  2000] loss: 0.008, accuracy: 0.990\n",
      "[1,  2000] val loss: 1.722, accuracy: 0.667\n",
      "[1,  2500] loss: 0.016, accuracy: 0.979\n",
      "[1,  2500] val loss: 1.707, accuracy: 0.664\n",
      "[1,  3000] loss: 0.021, accuracy: 0.976\n",
      "[1,  3000] val loss: 1.694, accuracy: 0.660\n",
      "[1,  3500] loss: 0.020, accuracy: 0.973\n",
      "[1,  3500] val loss: 1.743, accuracy: 0.655\n",
      "[1,  4000] loss: 0.024, accuracy: 0.974\n",
      "[1,  4000] val loss: 1.661, accuracy: 0.656\n",
      "[1,  4500] loss: 0.022, accuracy: 0.975\n",
      "[1,  4500] val loss: 1.670, accuracy: 0.661\n",
      "[1,  5000] loss: 0.015, accuracy: 0.984\n",
      "[1,  5000] val loss: 1.730, accuracy: 0.665\n",
      "[1,  5500] loss: 0.021, accuracy: 0.974\n",
      "[1,  5500] val loss: 1.676, accuracy: 0.660\n",
      "[1,  6000] loss: 0.029, accuracy: 0.965\n",
      "[1,  6000] val loss: 1.694, accuracy: 0.654\n",
      "[1,  6500] loss: 0.032, accuracy: 0.967\n",
      "[1,  6500] val loss: 1.797, accuracy: 0.648\n",
      "[1,  7000] loss: 0.028, accuracy: 0.969\n",
      "[1,  7000] val loss: 1.761, accuracy: 0.651\n",
      "[1,  7500] loss: 0.027, accuracy: 0.966\n",
      "[1,  7500] val loss: 1.689, accuracy: 0.653\n",
      "[1,  8000] loss: 0.032, accuracy: 0.961\n",
      "[1,  8000] val loss: 1.762, accuracy: 0.658\n",
      "[1,  8500] loss: 0.024, accuracy: 0.969\n",
      "[1,  8500] val loss: 1.849, accuracy: 0.656\n",
      "[1,  9000] loss: 0.052, accuracy: 0.951\n",
      "[1,  9000] val loss: 1.619, accuracy: 0.658\n",
      "[1,  9500] loss: 0.037, accuracy: 0.953\n",
      "[1,  9500] val loss: 1.614, accuracy: 0.655\n",
      "[1, 10000] loss: 0.025, accuracy: 0.970\n",
      "[1, 10000] val loss: 1.495, accuracy: 0.655\n",
      "[1, 10500] loss: 0.025, accuracy: 0.971\n",
      "[1, 10500] val loss: 1.625, accuracy: 0.664\n",
      "[1, 11000] loss: 0.036, accuracy: 0.959\n",
      "[1, 11000] val loss: 1.524, accuracy: 0.654\n",
      "[2,   500] loss: 0.021, accuracy: 0.975\n",
      "[2,   500] val loss: 1.501, accuracy: 0.662\n",
      "[2,  1000] loss: 0.010, accuracy: 0.985\n",
      "[2,  1000] val loss: 1.565, accuracy: 0.666\n",
      "[2,  1500] loss: 0.015, accuracy: 0.983\n",
      "[2,  1500] val loss: 1.672, accuracy: 0.662\n",
      "[2,  2000] loss: 0.013, accuracy: 0.982\n",
      "[2,  2000] val loss: 1.693, accuracy: 0.673\n",
      "[2,  2500] loss: 0.013, accuracy: 0.984\n",
      "[2,  2500] val loss: 1.750, accuracy: 0.667\n",
      "[2,  3000] loss: 0.017, accuracy: 0.982\n",
      "[2,  3000] val loss: 1.649, accuracy: 0.665\n",
      "[2,  3500] loss: 0.022, accuracy: 0.974\n",
      "[2,  3500] val loss: 1.606, accuracy: 0.659\n",
      "[2,  4000] loss: 0.022, accuracy: 0.971\n",
      "[2,  4000] val loss: 1.673, accuracy: 0.653\n",
      "[2,  4500] loss: 0.021, accuracy: 0.975\n",
      "[2,  4500] val loss: 1.757, accuracy: 0.653\n",
      "[2,  5000] loss: 0.023, accuracy: 0.973\n",
      "[2,  5000] val loss: 1.701, accuracy: 0.657\n",
      "[2,  5500] loss: 0.018, accuracy: 0.974\n",
      "[2,  5500] val loss: 1.679, accuracy: 0.658\n",
      "[2,  6000] loss: 0.014, accuracy: 0.984\n",
      "[2,  6000] val loss: 1.612, accuracy: 0.659\n",
      "[2,  6500] loss: 0.019, accuracy: 0.978\n",
      "[2,  6500] val loss: 1.671, accuracy: 0.657\n",
      "[2,  7000] loss: 0.024, accuracy: 0.971\n",
      "[2,  7000] val loss: 1.723, accuracy: 0.664\n",
      "[2,  7500] loss: 0.034, accuracy: 0.962\n",
      "[2,  7500] val loss: 1.734, accuracy: 0.662\n",
      "[2,  8000] loss: 0.023, accuracy: 0.973\n",
      "[2,  8000] val loss: 1.747, accuracy: 0.662\n",
      "[2,  8500] loss: 0.024, accuracy: 0.966\n",
      "[2,  8500] val loss: 1.751, accuracy: 0.656\n",
      "[2,  9000] loss: 0.031, accuracy: 0.965\n",
      "[2,  9000] val loss: 1.719, accuracy: 0.660\n",
      "[2,  9500] loss: 0.023, accuracy: 0.970\n",
      "[2,  9500] val loss: 1.751, accuracy: 0.664\n",
      "[2, 10000] loss: 0.029, accuracy: 0.962\n",
      "[2, 10000] val loss: 1.829, accuracy: 0.657\n",
      "[2, 10500] loss: 0.037, accuracy: 0.951\n",
      "[2, 10500] val loss: 1.669, accuracy: 0.656\n",
      "[2, 11000] loss: 0.035, accuracy: 0.952\n",
      "[2, 11000] val loss: 1.777, accuracy: 0.654\n",
      "Finished Training\n"
     ]
    }
   ],
   "source": [
    "# defining the training epochs 10\n",
    "N_EPOCHS = 10\n",
    "\n",
    "for epoch in range(N_EPOCHS):\n",
    "    \n",
    "    # loss calculate for an epoch\n",
    "    running_loss = 0.0\n",
    "    correct = 0\n",
    "    seen = 0\n",
    "    \n",
    "    for i, data in enumerate(train_loader, 0):\n",
    "        # getting the batch for training\n",
    "        inputs, labels = data\n",
    "\n",
    "        # zero the accumulated parameter gradients\n",
    "        optimizer.zero_grad()\n",
    "\n",
    "        # forward pass\n",
    "        outputs = net(inputs)\n",
    "        \n",
    "        # calculating the outputs\n",
    "        _, predicted = torch.max(outputs.data, 1)\n",
    "        \n",
    "        # calculating the loss for batch\n",
    "        loss = loss_fn(outputs, labels)\n",
    "        \n",
    "        # calculating the gradients by backward pass\n",
    "        loss.backward()\n",
    "        \n",
    "        # updating the prameters based on gradient\n",
    "        optimizer.step()\n",
    "\n",
    "        # print statistics\n",
    "        running_loss += loss.item()\n",
    "        \n",
    "        seen += len(predicted)\n",
    "        correct += sum(predicted == labels)\n",
    "        \n",
    "        if i % 500 == 499:\n",
    "            print(f'[{epoch + 1}, {i + 1:5d}] loss: {running_loss / 2000:.3f}, accuracy: {correct/seen:0.3f}')\n",
    "            \n",
    "            #storing the loss and accuracy\n",
    "            m1_batch += [(epoch+1) * (i+1)]\n",
    "            m1_train_loss += [running_loss / 2000]\n",
    "            m1_train_accuray +=  [correct / seen]\n",
    "            \n",
    "            running_loss = 0.0\n",
    "            correct = seen = 0\n",
    "            \n",
    "            # validation set loss and accuracy\n",
    "            with torch.no_grad():\n",
    "                val_loss = 0\n",
    "                val_correct = 0\n",
    "                val_seen = 0\n",
    "                for inputs, labels in validation_loader:\n",
    "                    outputs = net(inputs)\n",
    "\n",
    "                    # calculating the outputs\n",
    "                    _, predicted = torch.max(outputs.data, 1)\n",
    "\n",
    "                    # calculating the loss for validation batch\n",
    "                    val_loss += loss_fn(outputs, labels)\n",
    "                    \n",
    "                    # calculating accuracy for the validation batch\n",
    "                    val_correct += sum(predicted == labels)\n",
    "                    val_seen += len(labels)\n",
    "                    \n",
    "                m1_val_loss += [val_loss]\n",
    "                m1_val_accuracy += [val_correct/val_seen]\n",
    "                print(f'[{epoch + 1}, {i + 1:5d}] val loss: {val_loss/2000:0.3f}, accuracy: {val_correct/val_seen:0.3f}')\n",
    "\n",
    "print('Finished Training')"
   ]
  },
  {
   "cell_type": "code",
   "execution_count": 160,
   "id": "b4b67046",
   "metadata": {},
   "outputs": [
    {
     "data": {
      "text/plain": [
       "Text(0.5, 0, 'Epcohs')"
      ]
     },
     "execution_count": 160,
     "metadata": {},
     "output_type": "execute_result"
    },
    {
     "data": {
      "image/png": "[encoded data removed]",
      "text/plain": [
       "<Figure size 432x288 with 1 Axes>"
      ]
     },
     "metadata": {
      "needs_background": "light"
     },
     "output_type": "display_data"
    }
   ],
   "source": [
    "plt.plot(m1_train_accuray[22:], label = \"Training\")\n",
    "plt.plot(m1_val_accuracy[22:], label = \"Validation\")\n",
    "plt.legend(title=\"Dataset\")\n",
    "plt.ylabel(\"Accuracy\")\n",
    "plt.xlabel(\"Epcohs\")"
   ]
  },
  {
   "cell_type": "code",
   "execution_count": 37,
   "id": "730e960f",
   "metadata": {},
   "outputs": [],
   "source": [
    "def train_model(net, n_epochs, loss_fn, optimizer):\n",
    "    \"\"\"\n",
    "    A generic function to train the convolution neural network\n",
    "    \n",
    "    Parameters:\n",
    "    net: <nn.Module> the PyTorch neural network model\n",
    "    n_epochs: <int> number of epochs to train the model for\n",
    "    loss_fn: loss function to be used for model output\n",
    "    optimizer: The optimizer to update the parameters\n",
    "    \"\"\"\n",
    "    \n",
    "    # arrays to store and trach progress of the training process\n",
    "    m_batch = []\n",
    "    m_train_loss = []\n",
    "    m_train_accuray = []\n",
    "    m_val_loss = []\n",
    "    m_val_accuracy = []\n",
    "    \n",
    "    for epoch in range(n_epochs):\n",
    "\n",
    "        # loss calculated for an epoch\n",
    "        running_loss = 0.0\n",
    "\n",
    "        # number of correct\n",
    "        correct = 0\n",
    "\n",
    "        # number of instances seen\n",
    "        seen = 0\n",
    "\n",
    "        for i, data in enumerate(train_loader, 0):\n",
    "            # getting the batch for training\n",
    "            inputs, labels = data\n",
    "\n",
    "            # zero the accumulated parameter gradients\n",
    "            optimizer.zero_grad()\n",
    "\n",
    "            # forward pass\n",
    "            outputs = net(inputs)\n",
    "\n",
    "            # calculating the outputs\n",
    "            _, predicted = torch.max(outputs.data, 1)\n",
    "\n",
    "            # calculating the loss for batch\n",
    "            loss = loss_fn(outputs, labels)\n",
    "\n",
    "            # calculating the gradients by backward pass\n",
    "            loss.backward()\n",
    "\n",
    "            # updating the prameters based on gradient\n",
    "            optimizer.step()\n",
    "\n",
    "            # print statistics\n",
    "            running_loss += loss.item()\n",
    "\n",
    "            seen += len(predicted)\n",
    "            correct += sum(predicted == labels)\n",
    "\n",
    "            if i % 500 == 499:\n",
    "                print(f'[{epoch + 1}, {i + 1:5d}] loss: {running_loss / 2000:.3f}, accuracy: {correct/seen:0.3f}')\n",
    "\n",
    "                #storing the loss and accuracy\n",
    "                m_batch += [(epoch+1)*len(train) * (i+1)]\n",
    "                m_train_loss += [running_loss]\n",
    "                m_train_accuray +=  [correct / seen]\n",
    "\n",
    "                running_loss = 0.0\n",
    "                correct = seen = 0\n",
    "\n",
    "                # validation set loss and accuracy\n",
    "                with torch.no_grad():\n",
    "                    val_loss = 0\n",
    "                    val_correct = 0\n",
    "                    val_seen = 0\n",
    "                    for inputs, labels in validation_loader:\n",
    "                        outputs = net(inputs)\n",
    "\n",
    "                        # calculating the outputs\n",
    "                        _, predicted = torch.max(outputs.data, 1)\n",
    "\n",
    "                        # calculating the loss for validation batch\n",
    "                        val_loss += loss_fn(outputs, labels)\n",
    "\n",
    "                        # calculating accuracy for the validation batch\n",
    "                        val_correct += sum(predicted == labels)\n",
    "                        val_seen += len(labels)\n",
    "\n",
    "                    m_val_loss += [val_loss]\n",
    "                    m_val_accuracy += [val_correct/val_seen]\n",
    "                    print(f'[{epoch + 1}, {i + 1:5d}] validation loss: {val_loss/2000:0.3f}, accuracy: {val_correct/val_seen:0.3f}')\n",
    "\n",
    "    print('Finished Training')\n",
    "    \n",
    "    return {\n",
    "        \"batch\": m_batch,\n",
    "        \"training loss\": m_train_loss,\n",
    "        \"training accuracy\": m_train_accuray,\n",
    "        \"validation loss\": m_val_loss,\n",
    "        \"validation accuracy\": m_val_accuracy\n",
    "        }"
   ]
  },
  {
   "cell_type": "markdown",
   "id": "1defa41b",
   "metadata": {},
   "source": [
    "### Testing dataset accuracy of Model-1"
   ]
  },
  {
   "cell_type": "code",
   "execution_count": 42,
   "id": "97217d12",
   "metadata": {},
   "outputs": [
    {
     "name": "stdout",
     "output_type": "stream",
     "text": [
      "Accuracy of the network on the 10000 test images: 66 %\n"
     ]
    }
   ],
   "source": [
    "correct = 0\n",
    "total = 0\n",
    "\n",
    "# since we're not training, we don't need to calculate the gradients for our outputs\n",
    "with torch.no_grad():\n",
    "    for data in test_loader:\n",
    "        images, labels = data\n",
    "        # calculate outputs by running images through the network\n",
    "        outputs = net(images)\n",
    "        # the class with the highest energy is what we choose as prediction\n",
    "        _, predicted = torch.max(outputs.data, 1)\n",
    "        total += labels.size(0)\n",
    "        correct += (predicted == labels).sum().item()\n",
    "\n",
    "print(f'Accuracy of the network on the 10000 test images: {100 * correct // total} %')"
   ]
  },
  {
   "cell_type": "markdown",
   "id": "c0f7ad73",
   "metadata": {},
   "source": [
    "## Model 2\n",
    "\n",
    "To improve the accuracy of model, we add another VGG block to previous model."
   ]
  },
  {
   "cell_type": "code",
   "execution_count": 43,
   "id": "3ee4cebe",
   "metadata": {},
   "outputs": [],
   "source": [
    "import torch.nn as nn\n",
    "import torch.nn.functional as F\n",
    "\n",
    "class ConvNet2(nn.Module):\n",
    "    def __init__(self):\n",
    "        super().__init__()\n",
    "        \n",
    "        # block 1\n",
    "        self.conv1 = nn.Conv2d(3, 32, 3, padding = 1)\n",
    "        self.conv2 = nn.Conv2d(32, 32, 3, padding = 1)\n",
    "        self.pool = nn.MaxPool2d(2, 2)\n",
    "        \n",
    "        # block 2\n",
    "        self.conv3 = nn.Conv2d(32, 64, 3, padding = 1)\n",
    "        self.conv4 = nn.Conv2d(64, 64, 3, padding = 1)\n",
    "        \n",
    "        # fully connected layers\n",
    "        self.fc1 = nn.Linear(64*8*8, 128)\n",
    "        self.fc2 = nn.Linear(128, 10)\n",
    "\n",
    "    def forward(self, x):\n",
    "        # block 1\n",
    "        x = F.relu(self.conv1(x))\n",
    "        x = self.pool(F.relu(self.conv2(x)))\n",
    "        \n",
    "        # block 2\n",
    "        x = F.relu(self.conv3(x))\n",
    "        x = self.pool(F.relu(self.conv4(x)))\n",
    "        \n",
    "        # fully connected layers\n",
    "        x = torch.flatten(x, 1)\n",
    "        x = F.relu(self.fc1(x))\n",
    "        x = self.fc2(x)\n",
    "        \n",
    "        return x\n",
    "\n",
    "\n",
    "net2 = ConvNet2()"
   ]
  },
  {
   "cell_type": "markdown",
   "id": "22ba7baa",
   "metadata": {},
   "source": [
    "## Training Model 2"
   ]
  },
  {
   "cell_type": "code",
   "execution_count": 45,
   "id": "8113c038",
   "metadata": {},
   "outputs": [],
   "source": [
    "# defining optimizer for model 2\n",
    "import torch.optim as optim\n",
    "\n",
    "optimizer2 = optim.SGD(net2.parameters(), \n",
    "                      lr=0.001)\n",
    "\n",
    "# defining loss function for model 2\n",
    "loss_fn = nn.CrossEntropyLoss()"
   ]
  },
  {
   "cell_type": "code",
   "execution_count": 46,
   "id": "5d4bd3c4",
   "metadata": {},
   "outputs": [],
   "source": [
    "# lists for monitoring the progress of training Model-2\n",
    "m2_batch = []\n",
    "m2_train_loss = []\n",
    "m2_train_accuray = []\n",
    "m2_val_loss = []\n",
    "m2_val_accuracy = []"
   ]
  },
  {
   "cell_type": "code",
   "execution_count": 77,
   "id": "8c55cc32",
   "metadata": {
    "scrolled": false
   },
   "outputs": [
    {
     "name": "stdout",
     "output_type": "stream",
     "text": [
      "[1,   500] loss: 0.116, accuracy: 0.839\n",
      "[1,   500] val loss: 0.604, accuracy: 0.690\n",
      "[1,  1000] loss: 0.117, accuracy: 0.840\n",
      "[1,  1000] val loss: 0.578, accuracy: 0.700\n",
      "[1,  1500] loss: 0.119, accuracy: 0.841\n",
      "[1,  1500] val loss: 0.592, accuracy: 0.700\n",
      "[1,  2000] loss: 0.109, accuracy: 0.848\n",
      "[1,  2000] val loss: 0.625, accuracy: 0.695\n",
      "[1,  2500] loss: 0.113, accuracy: 0.845\n",
      "[1,  2500] val loss: 0.606, accuracy: 0.692\n",
      "[1,  3000] loss: 0.113, accuracy: 0.842\n",
      "[1,  3000] val loss: 0.601, accuracy: 0.696\n",
      "[1,  3500] loss: 0.124, accuracy: 0.829\n",
      "[1,  3500] val loss: 0.602, accuracy: 0.690\n",
      "[1,  4000] loss: 0.121, accuracy: 0.834\n",
      "[1,  4000] val loss: 0.600, accuracy: 0.692\n",
      "[1,  4500] loss: 0.116, accuracy: 0.837\n",
      "[1,  4500] val loss: 0.624, accuracy: 0.678\n",
      "[1,  5000] loss: 0.121, accuracy: 0.825\n",
      "[1,  5000] val loss: 0.606, accuracy: 0.693\n",
      "[1,  5500] loss: 0.118, accuracy: 0.831\n",
      "[1,  5500] val loss: 0.591, accuracy: 0.695\n",
      "[1,  6000] loss: 0.118, accuracy: 0.827\n",
      "[1,  6000] val loss: 0.592, accuracy: 0.696\n",
      "[1,  6500] loss: 0.124, accuracy: 0.823\n",
      "[1,  6500] val loss: 0.594, accuracy: 0.694\n",
      "[1,  7000] loss: 0.119, accuracy: 0.828\n",
      "[1,  7000] val loss: 0.593, accuracy: 0.696\n",
      "[1,  7500] loss: 0.126, accuracy: 0.819\n",
      "[1,  7500] val loss: 0.612, accuracy: 0.689\n",
      "[1,  8000] loss: 0.130, accuracy: 0.811\n",
      "[1,  8000] val loss: 0.591, accuracy: 0.692\n",
      "[1,  8500] loss: 0.131, accuracy: 0.808\n",
      "[1,  8500] val loss: 0.587, accuracy: 0.691\n",
      "[1,  9000] loss: 0.127, accuracy: 0.826\n",
      "[1,  9000] val loss: 0.637, accuracy: 0.683\n",
      "[1,  9500] loss: 0.124, accuracy: 0.827\n",
      "[1,  9500] val loss: 0.594, accuracy: 0.695\n",
      "[1, 10000] loss: 0.117, accuracy: 0.839\n",
      "[1, 10000] val loss: 0.588, accuracy: 0.698\n",
      "[1, 10500] loss: 0.127, accuracy: 0.822\n",
      "[1, 10500] val loss: 0.586, accuracy: 0.698\n",
      "[1, 11000] loss: 0.128, accuracy: 0.818\n",
      "[1, 11000] val loss: 0.590, accuracy: 0.697\n",
      "[2,   500] loss: 0.098, accuracy: 0.876\n",
      "[2,   500] val loss: 0.607, accuracy: 0.698\n",
      "[2,  1000] loss: 0.095, accuracy: 0.872\n",
      "[2,  1000] val loss: 0.598, accuracy: 0.697\n",
      "[2,  1500] loss: 0.095, accuracy: 0.863\n",
      "[2,  1500] val loss: 0.604, accuracy: 0.701\n",
      "[2,  2000] loss: 0.097, accuracy: 0.868\n",
      "[2,  2000] val loss: 0.628, accuracy: 0.687\n",
      "[2,  2500] loss: 0.104, accuracy: 0.853\n",
      "[2,  2500] val loss: 0.621, accuracy: 0.689\n",
      "[2,  3000] loss: 0.102, accuracy: 0.855\n",
      "[2,  3000] val loss: 0.628, accuracy: 0.690\n",
      "[2,  3500] loss: 0.100, accuracy: 0.859\n",
      "[2,  3500] val loss: 0.634, accuracy: 0.687\n",
      "[2,  4000] loss: 0.098, accuracy: 0.866\n",
      "[2,  4000] val loss: 0.662, accuracy: 0.695\n",
      "[2,  4500] loss: 0.110, accuracy: 0.850\n",
      "[2,  4500] val loss: 0.614, accuracy: 0.693\n",
      "[2,  5000] loss: 0.100, accuracy: 0.858\n",
      "[2,  5000] val loss: 0.611, accuracy: 0.701\n",
      "[2,  5500] loss: 0.111, accuracy: 0.835\n",
      "[2,  5500] val loss: 0.621, accuracy: 0.692\n",
      "[2,  6000] loss: 0.105, accuracy: 0.846\n",
      "[2,  6000] val loss: 0.640, accuracy: 0.688\n",
      "[2,  6500] loss: 0.088, accuracy: 0.877\n",
      "[2,  6500] val loss: 0.648, accuracy: 0.690\n",
      "[2,  7000] loss: 0.105, accuracy: 0.846\n",
      "[2,  7000] val loss: 0.627, accuracy: 0.695\n",
      "[2,  7500] loss: 0.102, accuracy: 0.860\n",
      "[2,  7500] val loss: 0.624, accuracy: 0.698\n",
      "[2,  8000] loss: 0.111, accuracy: 0.844\n",
      "[2,  8000] val loss: 0.644, accuracy: 0.681\n",
      "[2,  8500] loss: 0.110, accuracy: 0.846\n",
      "[2,  8500] val loss: 0.617, accuracy: 0.689\n",
      "[2,  9000] loss: 0.105, accuracy: 0.849\n",
      "[2,  9000] val loss: 0.613, accuracy: 0.697\n",
      "[2,  9500] loss: 0.112, accuracy: 0.845\n",
      "[2,  9500] val loss: 0.607, accuracy: 0.688\n",
      "[2, 10000] loss: 0.109, accuracy: 0.854\n",
      "[2, 10000] val loss: 0.617, accuracy: 0.695\n",
      "[2, 10500] loss: 0.109, accuracy: 0.846\n",
      "[2, 10500] val loss: 0.618, accuracy: 0.700\n",
      "[2, 11000] loss: 0.112, accuracy: 0.846\n",
      "[2, 11000] val loss: 0.608, accuracy: 0.699\n",
      "Finished Training\n"
     ]
    }
   ],
   "source": [
    "# defining the training epochs 10\n",
    "N_EPOCHS = 10\n",
    "\n",
    "for epoch in range(N_EPOCHS):\n",
    "    \n",
    "    # loss calculate for an epoch\n",
    "    running_loss = 0.0\n",
    "    correct = 0\n",
    "    seen = 0\n",
    "    \n",
    "    for i, data in enumerate(train_loader, 0):\n",
    "        # getting the batch for training\n",
    "        inputs, labels = data\n",
    "\n",
    "        # zero the accumulated parameter gradients\n",
    "        optimizer2.zero_grad()\n",
    "\n",
    "        # forward pass\n",
    "        outputs = net2(inputs)\n",
    "        \n",
    "        # calculating the outputs\n",
    "        _, predicted = torch.max(outputs.data, 1)\n",
    "        \n",
    "        # calculating the loss for batch\n",
    "        loss = loss_fn(outputs, labels)\n",
    "        \n",
    "        # calculating the gradients by backward pass\n",
    "        loss.backward()\n",
    "        \n",
    "        # updating the prameters based on gradient\n",
    "        optimizer2.step()\n",
    "\n",
    "        # print statistics\n",
    "        running_loss += loss.item()\n",
    "        \n",
    "        seen += len(predicted)\n",
    "        correct += sum(predicted == labels)\n",
    "        \n",
    "        if i % 500 == 499:\n",
    "            print(f'[{epoch + 1}, {i + 1:5d}] loss: {running_loss / 2000:.3f}, accuracy: {correct/seen:0.3f}')\n",
    "            \n",
    "            #storing the loss and accuracy\n",
    "            m2_batch += [(epoch+1) * (i+1)]\n",
    "            m2_train_loss += [running_loss / 2000]\n",
    "            m2_train_accuray +=  [correct / seen]\n",
    "            \n",
    "            running_loss = 0.0\n",
    "            correct = seen = 0\n",
    "            \n",
    "            # validation set loss and accuracy\n",
    "            with torch.no_grad():\n",
    "                val_loss = 0\n",
    "                val_correct = 0\n",
    "                val_seen = 0\n",
    "                for inputs, labels in validation_loader:\n",
    "                    outputs = net2(inputs)\n",
    "\n",
    "                    # calculating the outputs\n",
    "                    _, predicted = torch.max(outputs.data, 1)\n",
    "\n",
    "                    # calculating the loss for validation batch\n",
    "                    val_loss += loss_fn(outputs, labels)\n",
    "                    \n",
    "                    # calculating accuracy for the validation batch\n",
    "                    val_correct += sum(predicted == labels)\n",
    "                    val_seen += len(labels)\n",
    "                    \n",
    "                m2_val_loss += [val_loss]\n",
    "                m2_val_accuracy += [val_correct/val_seen]\n",
    "                print(f'[{epoch + 1}, {i + 1:5d}] val loss: {val_loss/2000:0.3f}, accuracy: {val_correct/val_seen:0.3f}')\n",
    "\n",
    "print('Finished Training')"
   ]
  },
  {
   "cell_type": "code",
   "execution_count": 114,
   "id": "f6b7d634",
   "metadata": {
    "scrolled": true
   },
   "outputs": [
    {
     "data": {
      "text/plain": [
       "Text(0.5, 0, 'Epcohs')"
      ]
     },
     "execution_count": 114,
     "metadata": {},
     "output_type": "execute_result"
    },
    {
     "data": {
      "image/png": "[encoded data removed]",
      "text/plain": [
       "<Figure size 432x288 with 1 Axes>"
      ]
     },
     "metadata": {
      "needs_background": "light"
     },
     "output_type": "display_data"
    }
   ],
   "source": [
    "plt.plot(m2_train_accuray, label = \"Training\")\n",
    "plt.plot(m2_val_accuracy, label = \"Validation\")\n",
    "plt.legend(title=\"Dataset\")\n",
    "plt.ylabel(\"Accuracy\")\n",
    "plt.xlabel(\"Epcohs\")"
   ]
  },
  {
   "cell_type": "markdown",
   "id": "37a58623",
   "metadata": {},
   "source": [
    "### Testind dataset accuracy of Model-2"
   ]
  },
  {
   "cell_type": "code",
   "execution_count": 60,
   "id": "5d9220a7",
   "metadata": {},
   "outputs": [
    {
     "name": "stdout",
     "output_type": "stream",
     "text": [
      "Accuracy of the network on the 10000 test images: 70 %\n"
     ]
    }
   ],
   "source": [
    "correct = 0\n",
    "total = 0\n",
    "\n",
    "# since we're not training, we don't need to calculate the gradients for our outputs\n",
    "with torch.no_grad():\n",
    "    for data in test_loader:\n",
    "        images, labels = data\n",
    "        # calculate outputs by running images through the network\n",
    "        outputs = net2(images)\n",
    "        # the class with the highest energy is what we choose as prediction\n",
    "        _, predicted = torch.max(outputs.data, 1)\n",
    "        total += labels.size(0)\n",
    "        correct += (predicted == labels).sum().item()\n",
    "\n",
    "print(f'Accuracy of the network on the 10000 test images: {100 * correct // total} %')"
   ]
  },
  {
   "cell_type": "markdown",
   "id": "50459a2f",
   "metadata": {},
   "source": [
    "## Model 3\n",
    "We increase the complexity of the network by adding another VGG block to it, so that the network has 3 VGG blocks in it."
   ]
  },
  {
   "cell_type": "code",
   "execution_count": 61,
   "id": "351651ea",
   "metadata": {},
   "outputs": [],
   "source": [
    "import torch.nn as nn\n",
    "import torch.nn.functional as F\n",
    "\n",
    "class ConvNet3(nn.Module):\n",
    "    def __init__(self):\n",
    "        super().__init__()\n",
    "        \n",
    "        # block 1\n",
    "        self.conv1 = nn.Conv2d(3, 32, 3, padding = 1)\n",
    "        self.conv2 = nn.Conv2d(32, 32, 3, padding = 1)\n",
    "        self.pool = nn.MaxPool2d(2, 2)\n",
    "        \n",
    "        # block 2\n",
    "        self.conv3 = nn.Conv2d(32, 64, 3, padding = 1)\n",
    "        self.conv4 = nn.Conv2d(64, 64, 3, padding = 1)\n",
    "        \n",
    "        # block 3\n",
    "        self.conv5 = nn.Conv2d(64, 128, 3, padding = 1)\n",
    "        self.conv6 = nn.Conv2d(128, 128, 3, padding = 1)\n",
    "        \n",
    "        # \n",
    "        self.fc1 = nn.Linear(128*4*4, 128)\n",
    "        self.fc2 = nn.Linear(128, 10)\n",
    "\n",
    "    def forward(self, x):\n",
    "        # block 1\n",
    "        x = F.relu(self.conv1(x))\n",
    "        x = self.pool(F.relu(self.conv2(x)))\n",
    "        \n",
    "        # block 2\n",
    "        x = F.relu(self.conv3(x))\n",
    "        x = self.pool(F.relu(self.conv4(x)))\n",
    "        \n",
    "        # block 3\n",
    "        x = F.relu(self.conv5(x))\n",
    "        x = self.pool(F.relu(self.conv6(x)))\n",
    "        \n",
    "        # fully connected layers\n",
    "        x = torch.flatten(x, 1)\n",
    "        x = F.relu(self.fc1(x))\n",
    "        x = self.fc2(x)\n",
    "    \n",
    "        return x\n",
    "\n",
    "net3 = ConvNet3()"
   ]
  },
  {
   "cell_type": "code",
   "execution_count": 62,
   "id": "6972a9b3",
   "metadata": {},
   "outputs": [
    {
     "data": {
      "text/plain": [
       "torch.Size([1, 10])"
      ]
     },
     "execution_count": 62,
     "metadata": {},
     "output_type": "execute_result"
    }
   ],
   "source": [
    "# checking forward pass\n",
    "net3(torch.rand(1,3,32,32)).shape"
   ]
  },
  {
   "cell_type": "markdown",
   "id": "5b5a02c3",
   "metadata": {},
   "source": [
    "## Training Model 3"
   ]
  },
  {
   "cell_type": "code",
   "execution_count": 63,
   "id": "b4075418",
   "metadata": {},
   "outputs": [],
   "source": [
    "import torch.optim as optim\n",
    "\n",
    "# optimizer for model 3\n",
    "optimizer3 = optim.SGD(net3.parameters(), \n",
    "                      lr=0.01) # smaller learning rate did not work properly\n",
    "\n",
    "# loss function for model 3\n",
    "loss_fn = nn.CrossEntropyLoss()"
   ]
  },
  {
   "cell_type": "code",
   "execution_count": 64,
   "id": "dc735852",
   "metadata": {},
   "outputs": [],
   "source": [
    "# lists to track training progress for Model-3\n",
    "m3_batch = []\n",
    "m3_train_loss = []\n",
    "m3_train_accuray = []\n",
    "m3_val_loss = []\n",
    "m3_val_accuracy = []"
   ]
  },
  {
   "cell_type": "code",
   "execution_count": 79,
   "id": "34504630",
   "metadata": {
    "scrolled": false
   },
   "outputs": [
    {
     "name": "stdout",
     "output_type": "stream",
     "text": [
      "[1,   500] loss: 0.045, accuracy: 0.938\n",
      "[1,   500] val loss: 0.646, accuracy: 0.752\n",
      "[1,  1000] loss: 0.053, accuracy: 0.924\n",
      "[1,  1000] val loss: 0.617, accuracy: 0.754\n",
      "[1,  1500] loss: 0.054, accuracy: 0.926\n",
      "[1,  1500] val loss: 0.619, accuracy: 0.761\n",
      "[1,  2000] loss: 0.070, accuracy: 0.904\n",
      "[1,  2000] val loss: 0.671, accuracy: 0.745\n",
      "[1,  2500] loss: 0.059, accuracy: 0.920\n",
      "[1,  2500] val loss: 0.640, accuracy: 0.742\n",
      "[1,  3000] loss: 0.063, accuracy: 0.914\n",
      "[1,  3000] val loss: 0.696, accuracy: 0.728\n",
      "[1,  3500] loss: 0.065, accuracy: 0.911\n",
      "[1,  3500] val loss: 0.594, accuracy: 0.757\n",
      "[1,  4000] loss: 0.058, accuracy: 0.919\n",
      "[1,  4000] val loss: 0.623, accuracy: 0.759\n",
      "[1,  4500] loss: 0.063, accuracy: 0.914\n",
      "[1,  4500] val loss: 0.638, accuracy: 0.757\n",
      "[1,  5000] loss: 0.078, accuracy: 0.893\n",
      "[1,  5000] val loss: 0.622, accuracy: 0.742\n",
      "[1,  5500] loss: 0.075, accuracy: 0.900\n",
      "[1,  5500] val loss: 0.601, accuracy: 0.749\n",
      "[1,  6000] loss: 0.078, accuracy: 0.890\n",
      "[1,  6000] val loss: 0.579, accuracy: 0.756\n",
      "[1,  6500] loss: 0.066, accuracy: 0.908\n",
      "[1,  6500] val loss: 0.572, accuracy: 0.752\n",
      "[1,  7000] loss: 0.073, accuracy: 0.900\n",
      "[1,  7000] val loss: 0.599, accuracy: 0.755\n",
      "[1,  7500] loss: 0.077, accuracy: 0.891\n",
      "[1,  7500] val loss: 0.559, accuracy: 0.755\n",
      "[1,  8000] loss: 0.076, accuracy: 0.888\n",
      "[1,  8000] val loss: 0.559, accuracy: 0.756\n",
      "[1,  8500] loss: 0.071, accuracy: 0.893\n",
      "[1,  8500] val loss: 0.565, accuracy: 0.748\n",
      "[1,  9000] loss: 0.088, accuracy: 0.881\n",
      "[1,  9000] val loss: 0.534, accuracy: 0.761\n",
      "[1,  9500] loss: 0.081, accuracy: 0.888\n",
      "[1,  9500] val loss: 0.551, accuracy: 0.754\n",
      "[1, 10000] loss: 0.074, accuracy: 0.892\n",
      "[1, 10000] val loss: 0.579, accuracy: 0.754\n",
      "[1, 10500] loss: 0.085, accuracy: 0.882\n",
      "[1, 10500] val loss: 0.559, accuracy: 0.756\n",
      "[1, 11000] loss: 0.073, accuracy: 0.895\n",
      "[1, 11000] val loss: 0.579, accuracy: 0.756\n",
      "[2,   500] loss: 0.037, accuracy: 0.947\n",
      "[2,   500] val loss: 0.689, accuracy: 0.758\n",
      "[2,  1000] loss: 0.049, accuracy: 0.931\n",
      "[2,  1000] val loss: 0.638, accuracy: 0.756\n",
      "[2,  1500] loss: 0.052, accuracy: 0.923\n",
      "[2,  1500] val loss: 0.632, accuracy: 0.760\n",
      "[2,  2000] loss: 0.057, accuracy: 0.924\n",
      "[2,  2000] val loss: 0.631, accuracy: 0.752\n",
      "[2,  2500] loss: 0.057, accuracy: 0.926\n",
      "[2,  2500] val loss: 0.658, accuracy: 0.753\n",
      "[2,  3000] loss: 0.059, accuracy: 0.921\n",
      "[2,  3000] val loss: 0.645, accuracy: 0.754\n",
      "[2,  3500] loss: 0.070, accuracy: 0.907\n",
      "[2,  3500] val loss: 0.595, accuracy: 0.752\n",
      "[2,  4000] loss: 0.064, accuracy: 0.913\n",
      "[2,  4000] val loss: 0.592, accuracy: 0.755\n",
      "[2,  4500] loss: 0.060, accuracy: 0.915\n",
      "[2,  4500] val loss: 0.601, accuracy: 0.753\n",
      "[2,  5000] loss: 0.055, accuracy: 0.921\n",
      "[2,  5000] val loss: 0.619, accuracy: 0.747\n",
      "[2,  5500] loss: 0.065, accuracy: 0.911\n",
      "[2,  5500] val loss: 0.624, accuracy: 0.745\n",
      "[2,  6000] loss: 0.071, accuracy: 0.900\n",
      "[2,  6000] val loss: 0.621, accuracy: 0.751\n",
      "[2,  6500] loss: 0.073, accuracy: 0.896\n",
      "[2,  6500] val loss: 0.605, accuracy: 0.746\n",
      "[2,  7000] loss: 0.069, accuracy: 0.899\n",
      "[2,  7000] val loss: 0.609, accuracy: 0.767\n",
      "[2,  7500] loss: 0.065, accuracy: 0.913\n",
      "[2,  7500] val loss: 0.557, accuracy: 0.764\n",
      "[2,  8000] loss: 0.076, accuracy: 0.896\n",
      "[2,  8000] val loss: 0.588, accuracy: 0.753\n",
      "[2,  8500] loss: 0.064, accuracy: 0.911\n",
      "[2,  8500] val loss: 0.571, accuracy: 0.761\n",
      "[2,  9000] loss: 0.079, accuracy: 0.888\n",
      "[2,  9000] val loss: 0.589, accuracy: 0.738\n",
      "[2,  9500] loss: 0.072, accuracy: 0.891\n",
      "[2,  9500] val loss: 0.543, accuracy: 0.762\n",
      "[2, 10000] loss: 0.074, accuracy: 0.900\n",
      "[2, 10000] val loss: 0.602, accuracy: 0.758\n",
      "[2, 10500] loss: 0.071, accuracy: 0.893\n",
      "[2, 10500] val loss: 0.649, accuracy: 0.747\n",
      "[2, 11000] loss: 0.083, accuracy: 0.885\n",
      "[2, 11000] val loss: 0.657, accuracy: 0.743\n",
      "Finished Training\n"
     ]
    }
   ],
   "source": [
    "# defining the training epochs 10\n",
    "N_EPOCHS = 10\n",
    "\n",
    "for epoch in range(N_EPOCHS):\n",
    "    \n",
    "    # loss calculate for an epoch\n",
    "    running_loss = 0.0\n",
    "    correct = 0\n",
    "    seen = 0\n",
    "    \n",
    "    for i, data in enumerate(train_loader, 0):\n",
    "        # getting the batch for training\n",
    "        inputs, labels = data\n",
    "\n",
    "        # zero the accumulated parameter gradients\n",
    "        optimizer3.zero_grad()\n",
    "\n",
    "        # forward pass\n",
    "        outputs = net3(inputs)\n",
    "        \n",
    "        # calculating the outputs\n",
    "        _, predicted = torch.max(outputs.data, 1)\n",
    "        \n",
    "        # calculating the loss for batch\n",
    "        loss = loss_fn(outputs, labels)\n",
    "        \n",
    "        # calculating the gradients by backward pass\n",
    "        loss.backward()\n",
    "        \n",
    "        # updating the prameters based on gradient\n",
    "        optimizer3.step()\n",
    "\n",
    "        # print statistics\n",
    "        running_loss += loss.item()\n",
    "        \n",
    "        seen += len(predicted)\n",
    "        correct += sum(predicted == labels)\n",
    "        \n",
    "        if i % 500 == 499:\n",
    "            print(f'[{epoch + 1}, {i + 1:5d}] loss: {running_loss / 2000:.3f}, accuracy: {correct/seen:0.3f}')\n",
    "            \n",
    "            #storing the loss and accuracy\n",
    "            m3_batch += [(epoch+1) * (i+1)]\n",
    "            m3_train_loss += [running_loss / 2000]\n",
    "            m3_train_accuray +=  [correct / seen]\n",
    "            \n",
    "            running_loss = 0.0\n",
    "            correct = seen = 0\n",
    "            \n",
    "            # validation set loss and accuracy\n",
    "            with torch.no_grad():\n",
    "                val_loss = 0\n",
    "                val_correct = 0\n",
    "                val_seen = 0\n",
    "                for inputs, labels in validation_loader:\n",
    "                    outputs = net3(inputs)\n",
    "\n",
    "                    # calculating the outputs\n",
    "                    _, predicted = torch.max(outputs.data, 1)\n",
    "\n",
    "                    # calculating the loss for validation batch\n",
    "                    val_loss += loss_fn(outputs, labels)\n",
    "                    \n",
    "                    # calculating accuracy for the validation batch\n",
    "                    val_correct += sum(predicted == labels)\n",
    "                    val_seen += len(labels)\n",
    "                    \n",
    "                m3_val_loss += [val_loss]\n",
    "                m3_val_accuracy += [val_correct/val_seen]\n",
    "                print(f'[{epoch + 1}, {i + 1:5d}] val loss: {val_loss/2000:0.3f}, accuracy: {val_correct/val_seen:0.3f}')\n",
    "\n",
    "print('Finished Training')"
   ]
  },
  {
   "cell_type": "code",
   "execution_count": 116,
   "id": "20c8647b",
   "metadata": {},
   "outputs": [
    {
     "data": {
      "text/plain": [
       "Text(0.5, 0, 'Epcohs')"
      ]
     },
     "execution_count": 116,
     "metadata": {},
     "output_type": "execute_result"
    },
    {
     "data": {
      "image/png": "[encoded data removed]",
      "text/plain": [
       "<Figure size 432x288 with 1 Axes>"
      ]
     },
     "metadata": {
      "needs_background": "light"
     },
     "output_type": "display_data"
    }
   ],
   "source": [
    "plt.plot(m3_train_accuray, label = \"Training\")\n",
    "plt.plot(m3_val_accuracy, label = \"Validation\")\n",
    "plt.legend(title=\"Dataset\")\n",
    "plt.ylabel(\"Accuracy\")\n",
    "plt.xlabel(\"Epcohs\")"
   ]
  },
  {
   "cell_type": "markdown",
   "id": "81401fee",
   "metadata": {},
   "source": [
    "### Testing dataset accuracy of Model-3"
   ]
  },
  {
   "cell_type": "code",
   "execution_count": 76,
   "id": "69615dab",
   "metadata": {},
   "outputs": [
    {
     "name": "stdout",
     "output_type": "stream",
     "text": [
      "Accuracy of the network on the 10000 test images: 76 %\n"
     ]
    }
   ],
   "source": [
    "correct = 0\n",
    "total = 0\n",
    "\n",
    "# since we're not training, we don't need to calculate the gradients for our outputs\n",
    "with torch.no_grad():\n",
    "    for data in test_loader:\n",
    "        images, labels = data\n",
    "        # calculate outputs by running images through the network\n",
    "        outputs = net3(images)\n",
    "        # the class with the highest energy is what we choose as prediction\n",
    "        _, predicted = torch.max(outputs.data, 1)\n",
    "        total += labels.size(0)\n",
    "        correct += (predicted == labels).sum().item()\n",
    "\n",
    "print(f'Accuracy of the network on the 10000 test images: {100 * correct // total} %')"
   ]
  },
  {
   "cell_type": "markdown",
   "id": "b9df3181",
   "metadata": {},
   "source": [
    "## Final model\n",
    "\n",
    "To prevent model from overfitting, we use dropout regularization in Model-3"
   ]
  },
  {
   "cell_type": "code",
   "execution_count": 94,
   "id": "7c33f831",
   "metadata": {},
   "outputs": [],
   "source": [
    "import torch.nn as nn\n",
    "import torch.nn.functional as F\n",
    "\n",
    "class ConvNet4(nn.Module):\n",
    "    def __init__(self):\n",
    "        super().__init__()\n",
    "        \n",
    "        # block 1\n",
    "        self.conv1 = nn.Conv2d(3, 32, 3, padding = 1)\n",
    "        self.conv2 = nn.Conv2d(32, 32, 3, padding = 1)\n",
    "        self.pool = nn.MaxPool2d(2, 2)\n",
    "        \n",
    "        # block 2\n",
    "        self.conv3 = nn.Conv2d(32, 64, 3, padding = 1)\n",
    "        self.conv4 = nn.Conv2d(64, 64, 3, padding = 1)\n",
    "        \n",
    "        # block 3\n",
    "        self.conv5 = nn.Conv2d(64, 128, 3, padding = 1)\n",
    "        self.conv6 = nn.Conv2d(128, 128, 3, padding = 1)\n",
    "        \n",
    "        # fully connected layers\n",
    "        self.fc1 = nn.Linear(128*4*4, 128)\n",
    "        self.fc2 = nn.Linear(128, 10)\n",
    "        \n",
    "        # regularization layer\n",
    "        self.dropout = nn.Dropout(0.2)\n",
    "\n",
    "    def forward(self, x):\n",
    "        # block 1\n",
    "        x = F.relu(self.conv1(x))\n",
    "        x = self.pool(F.relu(self.conv2(x)))\n",
    "        x = self.dropout(x)\n",
    "        \n",
    "        # block 2\n",
    "        x = F.relu(self.conv3(x))\n",
    "        x = self.pool(F.relu(self.conv4(x)))\n",
    "        x = self.dropout(x)\n",
    "        \n",
    "        # block 3\n",
    "        x = F.relu(self.conv5(x))\n",
    "        x = self.pool(F.relu(self.conv6(x)))\n",
    "        x = self.dropout(x)\n",
    "        \n",
    "        # fully connected layers\n",
    "        x = torch.flatten(x, 1)\n",
    "        x = F.relu(self.fc1(x))\n",
    "        x = self.fc2(x)\n",
    "        \n",
    "        return x\n",
    "\n",
    "net4 = ConvNet4()"
   ]
  },
  {
   "cell_type": "code",
   "execution_count": 95,
   "id": "9d242926",
   "metadata": {},
   "outputs": [
    {
     "data": {
      "text/plain": [
       "torch.Size([1, 10])"
      ]
     },
     "execution_count": 95,
     "metadata": {},
     "output_type": "execute_result"
    }
   ],
   "source": [
    "# checking forward pass\n",
    "net4(torch.rand(1,3,32,32)).shape"
   ]
  },
  {
   "cell_type": "markdown",
   "id": "a089607b",
   "metadata": {},
   "source": [
    "### Training regularized model"
   ]
  },
  {
   "cell_type": "code",
   "execution_count": 96,
   "id": "72915e2a",
   "metadata": {},
   "outputs": [],
   "source": [
    "import torch.optim as optim\n",
    "\n",
    "# optimizer for regularized model\n",
    "optimizer4 = optim.SGD(net4.parameters(), \n",
    "                      lr=0.01) # we can use larger learning rate due to regularization\n",
    "\n",
    "# loss function for regularized model\n",
    "loss_fn = nn.CrossEntropyLoss()"
   ]
  },
  {
   "cell_type": "code",
   "execution_count": 97,
   "id": "164a4bb1",
   "metadata": {},
   "outputs": [],
   "source": [
    "# lists to track training progress for regularized model\n",
    "m4_batch = []\n",
    "m4_train_loss = []\n",
    "m4_train_accuray = []\n",
    "m4_val_loss = []\n",
    "m4_val_accuracy = []"
   ]
  },
  {
   "cell_type": "code",
   "execution_count": 109,
   "id": "ea67a000",
   "metadata": {
    "scrolled": false
   },
   "outputs": [
    {
     "name": "stdout",
     "output_type": "stream",
     "text": [
      "[1,   500] loss: 0.114, accuracy: 0.837\n",
      "[1,   500] val loss: 0.449, accuracy: 0.761\n",
      "[1,  1000] loss: 0.103, accuracy: 0.854\n",
      "[1,  1000] val loss: 0.471, accuracy: 0.760\n",
      "[1,  1500] loss: 0.105, accuracy: 0.853\n",
      "[1,  1500] val loss: 0.470, accuracy: 0.760\n",
      "[1,  2000] loss: 0.113, accuracy: 0.842\n",
      "[1,  2000] val loss: 0.470, accuracy: 0.751\n",
      "[1,  2500] loss: 0.103, accuracy: 0.845\n",
      "[1,  2500] val loss: 0.486, accuracy: 0.754\n",
      "[1,  3000] loss: 0.111, accuracy: 0.849\n",
      "[1,  3000] val loss: 0.541, accuracy: 0.736\n",
      "[1,  3500] loss: 0.108, accuracy: 0.850\n",
      "[1,  3500] val loss: 0.484, accuracy: 0.756\n",
      "[1,  4000] loss: 0.110, accuracy: 0.846\n",
      "[1,  4000] val loss: 0.468, accuracy: 0.758\n",
      "[1,  4500] loss: 0.110, accuracy: 0.849\n",
      "[1,  4500] val loss: 0.487, accuracy: 0.747\n",
      "[1,  5000] loss: 0.121, accuracy: 0.826\n",
      "[1,  5000] val loss: 0.492, accuracy: 0.757\n",
      "[1,  5500] loss: 0.121, accuracy: 0.835\n",
      "[1,  5500] val loss: 0.472, accuracy: 0.759\n",
      "[1,  6000] loss: 0.128, accuracy: 0.820\n",
      "[1,  6000] val loss: 0.473, accuracy: 0.751\n",
      "[1,  6500] loss: 0.116, accuracy: 0.831\n",
      "[1,  6500] val loss: 0.508, accuracy: 0.740\n",
      "[1,  7000] loss: 0.119, accuracy: 0.836\n",
      "[1,  7000] val loss: 0.502, accuracy: 0.755\n",
      "[1,  7500] loss: 0.121, accuracy: 0.823\n",
      "[1,  7500] val loss: 0.482, accuracy: 0.751\n",
      "[1,  8000] loss: 0.120, accuracy: 0.827\n",
      "[1,  8000] val loss: 0.483, accuracy: 0.749\n",
      "[1,  8500] loss: 0.125, accuracy: 0.823\n",
      "[1,  8500] val loss: 0.474, accuracy: 0.745\n",
      "[1,  9000] loss: 0.131, accuracy: 0.814\n",
      "[1,  9000] val loss: 0.489, accuracy: 0.740\n",
      "[1,  9500] loss: 0.130, accuracy: 0.821\n",
      "[1,  9500] val loss: 0.455, accuracy: 0.755\n",
      "[1, 10000] loss: 0.122, accuracy: 0.830\n",
      "[1, 10000] val loss: 0.471, accuracy: 0.752\n",
      "[1, 10500] loss: 0.127, accuracy: 0.820\n",
      "[1, 10500] val loss: 0.450, accuracy: 0.759\n",
      "[1, 11000] loss: 0.121, accuracy: 0.823\n",
      "[1, 11000] val loss: 0.480, accuracy: 0.751\n",
      "[2,   500] loss: 0.097, accuracy: 0.860\n",
      "[2,   500] val loss: 0.494, accuracy: 0.757\n",
      "[2,  1000] loss: 0.107, accuracy: 0.847\n",
      "[2,  1000] val loss: 0.510, accuracy: 0.751\n",
      "[2,  1500] loss: 0.096, accuracy: 0.876\n",
      "[2,  1500] val loss: 0.471, accuracy: 0.761\n",
      "[2,  2000] loss: 0.111, accuracy: 0.852\n",
      "[2,  2000] val loss: 0.485, accuracy: 0.754\n",
      "[2,  2500] loss: 0.113, accuracy: 0.845\n",
      "[2,  2500] val loss: 0.479, accuracy: 0.756\n",
      "[2,  3000] loss: 0.105, accuracy: 0.857\n",
      "[2,  3000] val loss: 0.489, accuracy: 0.755\n",
      "[2,  3500] loss: 0.110, accuracy: 0.852\n",
      "[2,  3500] val loss: 0.511, accuracy: 0.745\n",
      "[2,  4000] loss: 0.102, accuracy: 0.850\n",
      "[2,  4000] val loss: 0.510, accuracy: 0.743\n",
      "[2,  4500] loss: 0.122, accuracy: 0.829\n",
      "[2,  4500] val loss: 0.482, accuracy: 0.756\n",
      "[2,  5000] loss: 0.115, accuracy: 0.836\n",
      "[2,  5000] val loss: 0.482, accuracy: 0.759\n",
      "[2,  5500] loss: 0.116, accuracy: 0.841\n",
      "[2,  5500] val loss: 0.480, accuracy: 0.752\n",
      "[2,  6000] loss: 0.113, accuracy: 0.838\n",
      "[2,  6000] val loss: 0.475, accuracy: 0.755\n",
      "[2,  6500] loss: 0.111, accuracy: 0.845\n",
      "[2,  6500] val loss: 0.458, accuracy: 0.761\n",
      "[2,  7000] loss: 0.116, accuracy: 0.842\n",
      "[2,  7000] val loss: 0.475, accuracy: 0.756\n",
      "[2,  7500] loss: 0.111, accuracy: 0.840\n",
      "[2,  7500] val loss: 0.508, accuracy: 0.743\n",
      "[2,  8000] loss: 0.120, accuracy: 0.838\n",
      "[2,  8000] val loss: 0.468, accuracy: 0.758\n",
      "[2,  8500] loss: 0.114, accuracy: 0.839\n",
      "[2,  8500] val loss: 0.489, accuracy: 0.748\n",
      "[2,  9000] loss: 0.119, accuracy: 0.837\n",
      "[2,  9000] val loss: 0.487, accuracy: 0.741\n",
      "[2,  9500] loss: 0.123, accuracy: 0.826\n",
      "[2,  9500] val loss: 0.493, accuracy: 0.743\n",
      "[2, 10000] loss: 0.118, accuracy: 0.836\n",
      "[2, 10000] val loss: 0.481, accuracy: 0.746\n",
      "[2, 10500] loss: 0.118, accuracy: 0.835\n",
      "[2, 10500] val loss: 0.454, accuracy: 0.762\n",
      "[2, 11000] loss: 0.121, accuracy: 0.837\n",
      "[2, 11000] val loss: 0.486, accuracy: 0.755\n",
      "Finished Training\n"
     ]
    }
   ],
   "source": [
    "# defining the training epochs 10\n",
    "N_EPOCHS = 10\n",
    "\n",
    "for epoch in range(N_EPOCHS):\n",
    "    \n",
    "    # loss calculate for an epoch\n",
    "    running_loss = 0.0\n",
    "    correct = 0\n",
    "    seen = 0\n",
    "    \n",
    "    for i, data in enumerate(train_loader, 0):\n",
    "        # getting the batch for training\n",
    "        inputs, labels = data\n",
    "\n",
    "        # zero the accumulated parameter gradients\n",
    "        optimizer4.zero_grad()\n",
    "\n",
    "        # forward pass\n",
    "        outputs = net4(inputs)\n",
    "        \n",
    "        # calculating the outputs\n",
    "        _, predicted = torch.max(outputs.data, 1)\n",
    "        \n",
    "        # calculating the loss for batch\n",
    "        loss = loss_fn(outputs, labels)\n",
    "        \n",
    "        # calculating the gradients by backward pass\n",
    "        loss.backward()\n",
    "        \n",
    "        # updating the prameters based on gradient\n",
    "        optimizer4.step()\n",
    "\n",
    "        # print statistics\n",
    "        running_loss += loss.item()\n",
    "        \n",
    "        seen += len(predicted)\n",
    "        correct += sum(predicted == labels)\n",
    "        \n",
    "        if i % 500 == 499:\n",
    "            print(f'[{epoch + 1}, {i + 1:5d}] loss: {running_loss / 2000:.3f}, accuracy: {correct/seen:0.3f}')\n",
    "            \n",
    "            #storing the loss and accuracy\n",
    "            m4_batch += [(epoch+1) * (i+1)]\n",
    "            m4_train_loss += [running_loss / 2000]\n",
    "            m4_train_accuray +=  [correct / seen]\n",
    "            \n",
    "            running_loss = 0.0\n",
    "            correct = seen = 0\n",
    "            \n",
    "            # validation set loss and accuracy\n",
    "            with torch.no_grad():\n",
    "                val_loss = 0\n",
    "                val_correct = 0\n",
    "                val_seen = 0\n",
    "                for inputs, labels in validation_loader:\n",
    "                    outputs = net4(inputs)\n",
    "\n",
    "                    # calculating the outputs\n",
    "                    _, predicted = torch.max(outputs.data, 1)\n",
    "\n",
    "                    # calculating the loss for validation batch\n",
    "                    val_loss += loss_fn(outputs, labels)\n",
    "                    \n",
    "                    # calculating accuracy for the validation batch\n",
    "                    val_correct += sum(predicted == labels)\n",
    "                    val_seen += len(labels)\n",
    "                    \n",
    "                m4_val_loss += [val_loss]\n",
    "                m4_val_accuracy += [val_correct/val_seen]\n",
    "                print(f'[{epoch + 1}, {i + 1:5d}] val loss: {val_loss/2000:0.3f}, accuracy: {val_correct/val_seen:0.3f}')\n",
    "\n",
    "print('Finished Training')"
   ]
  },
  {
   "cell_type": "code",
   "execution_count": 117,
   "id": "ce6fa0b7",
   "metadata": {},
   "outputs": [
    {
     "data": {
      "text/plain": [
       "Text(0.5, 0, 'Epcohs')"
      ]
     },
     "execution_count": 117,
     "metadata": {},
     "output_type": "execute_result"
    },
    {
     "data": {
      "image/png": "[encoded data removed]",
      "text/plain": [
       "<Figure size 432x288 with 1 Axes>"
      ]
     },
     "metadata": {
      "needs_background": "light"
     },
     "output_type": "display_data"
    }
   ],
   "source": [
    "plt.plot(m4_train_accuray, label = \"Training\")\n",
    "plt.plot(m4_val_accuracy, label = \"Validation\")\n",
    "plt.legend(title=\"Dataset\")\n",
    "plt.ylabel(\"Accuracy\")\n",
    "plt.xlabel(\"Epcohs\")"
   ]
  },
  {
   "cell_type": "markdown",
   "id": "026e1d6f",
   "metadata": {},
   "source": [
    "### Testing dataset accuracy of regularized model"
   ]
  },
  {
   "cell_type": "code",
   "execution_count": 111,
   "id": "bef27210",
   "metadata": {},
   "outputs": [
    {
     "name": "stdout",
     "output_type": "stream",
     "text": [
      "Accuracy of the network on the 10000 test images: 75 %\n"
     ]
    }
   ],
   "source": [
    "correct = 0\n",
    "total = 0\n",
    "\n",
    "# since we're not training, we don't need to calculate the gradients for our outputs\n",
    "with torch.no_grad():\n",
    "    for data in test_loader:\n",
    "        images, labels = data\n",
    "        # calculate outputs by running images through the network\n",
    "        outputs = net4(images)\n",
    "        # the class with the highest energy is what we choose as prediction\n",
    "        _, predicted = torch.max(outputs.data, 1)\n",
    "        total += labels.size(0)\n",
    "        correct += (predicted == labels).sum().item()\n",
    "\n",
    "print(f'Accuracy of the network on the 10000 test images: {100 * correct // total} %')"
   ]
  },
  {
   "cell_type": "markdown",
   "id": "edba4913",
   "metadata": {},
   "source": [
    "## Comparing validation loss of models"
   ]
  },
  {
   "cell_type": "markdown",
   "id": "4973196c",
   "metadata": {},
   "source": [
    "We observe that with increasing number of layers in the model the testing accuracy of model increases."
   ]
  },
  {
   "cell_type": "code",
   "execution_count": 171,
   "id": "7bb2e723",
   "metadata": {
    "scrolled": true
   },
   "outputs": [
    {
     "data": {
      "text/plain": [
       "Text(0.5, 0, 'Epcohs')"
      ]
     },
     "execution_count": 171,
     "metadata": {},
     "output_type": "execute_result"
    },
    {
     "data": {
      "image/png": "[encoded data removed]",
      "text/plain": [
       "<Figure size 432x288 with 1 Axes>"
      ]
     },
     "metadata": {
      "needs_background": "light"
     },
     "output_type": "display_data"
    }
   ],
   "source": [
    "plt.plot(m1_val_accuracy[20:269], label = \"Model-1\")\n",
    "plt.plot(m2_val_accuracy[:250], label = \"Model-2\")\n",
    "plt.plot(m3_val_accuracy[:250], label = \"Model-3\")\n",
    "plt.plot(m4_val_accuracy[:250], label = \"Model-3(Dropout)\")\n",
    "plt.legend(title=\"Dataset\")\n",
    "plt.ylabel(\"Accuracy\")\n",
    "plt.xlabel(\"Epcohs\")"
   ]
  },
  {
   "cell_type": "markdown",
   "id": "80b5a458",
   "metadata": {},
   "source": [
    "## Testing dataset accuracy\n",
    "\n",
    "Similar trend is observed for testing accuracy of the dataset\n",
    "\n",
    "|Model|Testing accuracy|\n",
    "|-|-|\n",
    "|Model 1| 65%|\n",
    "|Model-2| 70%|\n",
    "|Model-3| 76%|\n",
    "|Model-3 with Dropout| 75%|"
   ]
  }
 ],
 "metadata": {
  "kernelspec": {
   "display_name": "Python 3 (ipykernel)",
   "language": "python",
   "name": "python3"
  },
  "language_info": {
   "codemirror_mode": {
    "name": "ipython",
    "version": 3
   },
   "file_extension": ".py",
   "mimetype": "text/x-python",
   "name": "python",
   "nbconvert_exporter": "python",
   "pygments_lexer": "ipython3",
   "version": "3.9.12"
  }
 },
 "nbformat": 4,
 "nbformat_minor": 5
}
